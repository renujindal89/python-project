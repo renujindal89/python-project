{
 "cells": [
  {
   "cell_type": "code",
   "execution_count": null,
   "id": "8052066b-859c-46bc-81a5-c2a43f6c0540",
   "metadata": {},
   "outputs": [],
   "source": [
    "#COMMENTS-not executed by compiler \n",
    "#it should be readable /\n",
    "#it is used to enhance teh code readebility"
   ]
  },
  {
   "cell_type": "code",
   "execution_count": null,
   "id": "fcfe7f3a-0aa3-4fe9-bdba-32db60403a47",
   "metadata": {},
   "outputs": [],
   "source": [
    "#python is case sensitive "
   ]
  },
  {
   "cell_type": "code",
   "execution_count": null,
   "id": "fbefb7b0-9e49-4385-a2c0-3e02dc3bdc2f",
   "metadata": {},
   "outputs": [],
   "source": []
  },
  {
   "cell_type": "code",
   "execution_count": 2,
   "id": "822c7892-aeec-429f-8d19-c13a98c346f5",
   "metadata": {},
   "outputs": [
    {
     "name": "stdout",
     "output_type": "stream",
     "text": [
      "hello,world\n"
     ]
    }
   ],
   "source": [
    "print(\"hello,world\")"
   ]
  },
  {
   "cell_type": "code",
   "execution_count": 3,
   "id": "9fc02301-0bf4-47ba-95f8-bc8cf95832ec",
   "metadata": {},
   "outputs": [
    {
     "name": "stdout",
     "output_type": "stream",
     "text": [
      "hello my name is: renu\n"
     ]
    }
   ],
   "source": [
    "#used to display output on the screen\n",
    "#multiple value\n",
    "print(\"hello\",\"my name is:\",\"renu\")"
   ]
  },
  {
   "cell_type": "code",
   "execution_count": 4,
   "id": "5c3e1fda-7b1e-4040-bf2c-2a0d00008920",
   "metadata": {},
   "outputs": [
    {
     "name": "stdout",
     "output_type": "stream",
     "text": [
      "hello_my name is_renu\n"
     ]
    }
   ],
   "source": [
    "#using sap  (shift+tab)\n",
    "print(\"hello\",\"my name is\",\"renu\",sep=\"_\")"
   ]
  },
  {
   "cell_type": "code",
   "execution_count": 18,
   "id": "ab260897-4415-4922-b541-c79dd5f42215",
   "metadata": {},
   "outputs": [
    {
     "name": "stdout",
     "output_type": "stream",
     "text": [
      "india 5 True\n"
     ]
    }
   ],
   "source": [
    "#diff datatype   (no limit how many character )\n",
    "print(\"india\",5,True)"
   ]
  },
  {
   "cell_type": "code",
   "execution_count": null,
   "id": "f1baaec3-2f68-4df9-8951-f8c386bfe3bb",
   "metadata": {},
   "outputs": [],
   "source": []
  },
  {
   "cell_type": "code",
   "execution_count": null,
   "id": "909466d7-9738-47ad-b7b2-7f3b338f1dd8",
   "metadata": {},
   "outputs": [],
   "source": []
  },
  {
   "cell_type": "code",
   "execution_count": 5,
   "id": "b33f9687-3292-4732-9279-33f4cd2fc32b",
   "metadata": {},
   "outputs": [
    {
     "name": "stdout",
     "output_type": "stream",
     "text": [
      "welcom to python\n"
     ]
    }
   ],
   "source": [
    "#using end\n",
    "print(\"welcom\",end=\" \")\n",
    "print(\"to python\")"
   ]
  },
  {
   "cell_type": "code",
   "execution_count": 6,
   "id": "99744012-024c-4b6d-aba9-917ceae3f1dd",
   "metadata": {},
   "outputs": [
    {
     "name": "stdout",
     "output_type": "stream",
     "text": [
      "welcom\n",
      "to python\n"
     ]
    }
   ],
   "source": [
    "print(\"welcom\")\n",
    "print(\"to python\")"
   ]
  },
  {
   "cell_type": "code",
   "execution_count": null,
   "id": "a8ac9ff4-1427-4d3d-9a45-596387836f0f",
   "metadata": {},
   "outputs": [],
   "source": []
  },
  {
   "cell_type": "code",
   "execution_count": 7,
   "id": "ffb70ba3-4faa-4d8e-8f88-d467cf8420ad",
   "metadata": {},
   "outputs": [
    {
     "name": "stdout",
     "output_type": "stream",
     "text": [
      "15\n"
     ]
    }
   ],
   "source": [
    "print(10+5)"
   ]
  },
  {
   "cell_type": "code",
   "execution_count": 15,
   "id": "ff631aac-0dd6-4849-adca-3896d84e84ab",
   "metadata": {},
   "outputs": [
    {
     "name": "stdout",
     "output_type": "stream",
     "text": [
      "5.6\n"
     ]
    }
   ],
   "source": [
    "print(5.6)"
   ]
  },
  {
   "cell_type": "code",
   "execution_count": 16,
   "id": "fe108a93-aa90-4403-a312-182194d7328b",
   "metadata": {},
   "outputs": [
    {
     "ename": "NameError",
     "evalue": "name 'false' is not defined",
     "output_type": "error",
     "traceback": [
      "\u001b[1;31m---------------------------------------------------------------------------\u001b[0m",
      "\u001b[1;31mNameError\u001b[0m                                 Traceback (most recent call last)",
      "Cell \u001b[1;32mIn[16], line 1\u001b[0m\n\u001b[1;32m----> 1\u001b[0m \u001b[38;5;28mprint\u001b[39m(false)\n",
      "\u001b[1;31mNameError\u001b[0m: name 'false' is not defined"
     ]
    }
   ],
   "source": [
    "print(false)"
   ]
  },
  {
   "cell_type": "code",
   "execution_count": 17,
   "id": "f7e5389f-1c2f-4049-9249-0ee4c2c7f343",
   "metadata": {},
   "outputs": [
    {
     "name": "stdout",
     "output_type": "stream",
     "text": [
      "False\n"
     ]
    }
   ],
   "source": [
    "print(False)"
   ]
  },
  {
   "cell_type": "code",
   "execution_count": null,
   "id": "2b15fcd1-5c76-4775-b6e8-72ba79501256",
   "metadata": {},
   "outputs": [],
   "source": []
  },
  {
   "cell_type": "code",
   "execution_count": null,
   "id": "6b489dc7-04a6-4ab9-b3e3-388ee7b1413e",
   "metadata": {},
   "outputs": [],
   "source": []
  },
  {
   "cell_type": "code",
   "execution_count": 8,
   "id": "6514ca90-05f7-45dd-9d43-f5108fdd0181",
   "metadata": {},
   "outputs": [
    {
     "name": "stdout",
     "output_type": "stream",
     "text": [
      "10\n"
     ]
    }
   ],
   "source": [
    "#using variable\n",
    "x=10\n",
    "print(x)"
   ]
  },
  {
   "cell_type": "code",
   "execution_count": 9,
   "id": "314111b0-ca6f-44d5-8198-bffe43d2b941",
   "metadata": {},
   "outputs": [
    {
     "name": "stdout",
     "output_type": "stream",
     "text": [
      "the value of x is : 10\n"
     ]
    }
   ],
   "source": [
    "print(\"the value of x is :\",x)"
   ]
  },
  {
   "cell_type": "code",
   "execution_count": 10,
   "id": "9517a15e-ac57-4dcb-8d7e-921c56a5c4a4",
   "metadata": {},
   "outputs": [
    {
     "name": "stdout",
     "output_type": "stream",
     "text": [
      "age: 25\n"
     ]
    }
   ],
   "source": [
    "print(\"age:\",25)"
   ]
  },
  {
   "cell_type": "markdown",
   "id": "7623d767-9d18-4a79-99eb-78e8cb5fd2b5",
   "metadata": {},
   "source": [
    "MISTAKES"
   ]
  },
  {
   "cell_type": "code",
   "execution_count": 12,
   "id": "9bad2251-d1b1-4f4a-86e0-e51f109b45eb",
   "metadata": {},
   "outputs": [
    {
     "name": "stdout",
     "output_type": "stream",
     "text": [
      "hello\n"
     ]
    }
   ],
   "source": [
    "Print(\"hello\")   # IT TAKES AS VARIABLE "
   ]
  },
  {
   "cell_type": "code",
   "execution_count": null,
   "id": "0b11c3f3-dc4f-45fd-a576-2251a4f4ae8a",
   "metadata": {},
   "outputs": [],
   "source": [
    "print(\"hello\"\n",
    "      "
   ]
  },
  {
   "cell_type": "code",
   "execution_count": 13,
   "id": "df2753bf-1fb4-408b-8dbb-1ce5da10be85",
   "metadata": {},
   "outputs": [
    {
     "ename": "NameError",
     "evalue": "name 'hello' is not defined",
     "output_type": "error",
     "traceback": [
      "\u001b[1;31m---------------------------------------------------------------------------\u001b[0m",
      "\u001b[1;31mNameError\u001b[0m                                 Traceback (most recent call last)",
      "Cell \u001b[1;32mIn[13], line 1\u001b[0m\n\u001b[1;32m----> 1\u001b[0m \u001b[38;5;28mprint\u001b[39m(hello)\n",
      "\u001b[1;31mNameError\u001b[0m: name 'hello' is not defined"
     ]
    }
   ],
   "source": [
    "print(hello)  # take as variable"
   ]
  },
  {
   "cell_type": "code",
   "execution_count": 14,
   "id": "73c6826a-f5b7-4f17-a2ed-6c1480106d71",
   "metadata": {},
   "outputs": [
    {
     "ename": "SyntaxError",
     "evalue": "unterminated string literal (detected at line 2) (2002530278.py, line 2)",
     "output_type": "error",
     "traceback": [
      "\u001b[1;36m  Cell \u001b[1;32mIn[14], line 2\u001b[1;36m\u001b[0m\n\u001b[1;33m    print('it's fine')\u001b[0m\n\u001b[1;37m                    ^\u001b[0m\n\u001b[1;31mSyntaxError\u001b[0m\u001b[1;31m:\u001b[0m unterminated string literal (detected at line 2)\n"
     ]
    }
   ],
   "source": [
    "#' commas is big problem \n",
    "print('it's fine')"
   ]
  },
  {
   "cell_type": "markdown",
   "id": "16e8b9eb-3cae-44fe-a37f-9bf58ca35525",
   "metadata": {},
   "source": [
    "DATA TYPE\n",
    "BASIC- int,float,complex,boolean,string\n",
    "container type- list,tuple,sets,dicionary\n",
    "userdefined- class "
   ]
  },
  {
   "cell_type": "markdown",
   "id": "447f2db0-9991-4bd8-b84b-cd541aa6250b",
   "metadata": {},
   "source": [
    "define what types of data will be stored in variable \n",
    "variable can hold values of diff data type \n",
    "use type()"
   ]
  },
  {
   "cell_type": "code",
   "execution_count": 20,
   "id": "27e12b44-14bf-4043-9de1-c10dc0913446",
   "metadata": {},
   "outputs": [
    {
     "name": "stdout",
     "output_type": "stream",
     "text": [
      "4\n",
      "1e+307\n"
     ]
    }
   ],
   "source": [
    "print(4)     # range no issue\n",
    "print(1e307)"
   ]
  },
  {
   "cell_type": "code",
   "execution_count": 34,
   "id": "7c05f3ac-2999-4241-8981-c6d9f0cb5013",
   "metadata": {},
   "outputs": [
    {
     "name": "stdout",
     "output_type": "stream",
     "text": [
      "4.5\n",
      "True\n",
      "(4+5j)\n"
     ]
    }
   ],
   "source": [
    "print(4.5)\n",
    "print(True)\n",
    "print(4+5j)"
   ]
  },
  {
   "cell_type": "code",
   "execution_count": 31,
   "id": "1932f29e-ef60-4438-a934-b295c5addc52",
   "metadata": {},
   "outputs": [
    {
     "name": "stdout",
     "output_type": "stream",
     "text": [
      "5\n",
      "5\n",
      "5\n",
      "8\n"
     ]
    }
   ],
   "source": [
    "print (len('hello'))\n",
    "print(len(\"hello\"))\n",
    "print(len(\"\"\"hello\"\"\"))\n",
    "print(len(\"\"\"hello\n",
    "hru\"\"\"))"
   ]
  },
  {
   "cell_type": "code",
   "execution_count": 32,
   "id": "1c81c1f8-bf04-4b24-8b9f-112f95aa4f07",
   "metadata": {},
   "outputs": [
    {
     "name": "stdout",
     "output_type": "stream",
     "text": [
      "hello\n",
      "hello\n",
      "hello\n",
      "hello\n",
      "hru\n"
     ]
    }
   ],
   "source": [
    "print ('hello')\n",
    "print(\"hello\")\n",
    "print(\"\"\"hello\"\"\")\n",
    "print(\"\"\"hello\n",
    "hru\"\"\")"
   ]
  },
  {
   "cell_type": "code",
   "execution_count": 35,
   "id": "152aa87f-ae07-4ddc-9a33-0aad5a177724",
   "metadata": {},
   "outputs": [],
   "source": [
    "#container type\n",
    "#list orderd/mutable(can be change,add,remove,modify)/can hold diff datatype"
   ]
  },
  {
   "cell_type": "code",
   "execution_count": 36,
   "id": "9b9ace6a-0df5-493a-a978-c3904a97f4b7",
   "metadata": {},
   "outputs": [],
   "source": [
    "l1=[1,\"renu\",\"employee\"]"
   ]
  },
  {
   "cell_type": "code",
   "execution_count": 37,
   "id": "86a959eb-fef4-4a46-8c7a-45da8d212793",
   "metadata": {},
   "outputs": [
    {
     "data": {
      "text/plain": [
       "list"
      ]
     },
     "execution_count": 37,
     "metadata": {},
     "output_type": "execute_result"
    }
   ],
   "source": [
    "type(l1)"
   ]
  },
  {
   "cell_type": "code",
   "execution_count": 38,
   "id": "3861cb85-affa-476b-9248-aa01dba676bb",
   "metadata": {},
   "outputs": [
    {
     "name": "stdout",
     "output_type": "stream",
     "text": [
      "[1, 'renu', 'employee']\n"
     ]
    }
   ],
   "source": [
    "print(l1)"
   ]
  },
  {
   "cell_type": "code",
   "execution_count": 42,
   "id": "befaddcb-122b-45e5-bbe0-838d5e270b7d",
   "metadata": {},
   "outputs": [
    {
     "data": {
      "text/plain": [
       "'employee'"
      ]
     },
     "execution_count": 42,
     "metadata": {},
     "output_type": "execute_result"
    }
   ],
   "source": [
    "l1[2]"
   ]
  },
  {
   "cell_type": "code",
   "execution_count": 44,
   "id": "f573fd50-a8e8-431c-a401-00c72820ab71",
   "metadata": {},
   "outputs": [
    {
     "data": {
      "text/plain": [
       "[1, 'renu', 'employee']"
      ]
     },
     "execution_count": 44,
     "metadata": {},
     "output_type": "execute_result"
    }
   ],
   "source": [
    "l1[0:3]"
   ]
  },
  {
   "cell_type": "code",
   "execution_count": 45,
   "id": "41522615-beaf-4c04-b76b-380b7eac106c",
   "metadata": {},
   "outputs": [],
   "source": [
    "#tuples-order/immutable/it is useful for data that you remain data constant\n",
    "t1=(1,\"renu\",\"employee\")"
   ]
  },
  {
   "cell_type": "code",
   "execution_count": 46,
   "id": "30b80383-a5b2-4026-83e5-1bf46e9ce10a",
   "metadata": {},
   "outputs": [
    {
     "data": {
      "text/plain": [
       "(1, 'renu', 'employee')"
      ]
     },
     "execution_count": 46,
     "metadata": {},
     "output_type": "execute_result"
    }
   ],
   "source": [
    "t1"
   ]
  },
  {
   "cell_type": "code",
   "execution_count": 47,
   "id": "a94a7994-bbf2-433f-9dfe-a657e5875d01",
   "metadata": {},
   "outputs": [
    {
     "data": {
      "text/plain": [
       "{1, 2, 3, 4, 6, 7, 8}"
      ]
     },
     "execution_count": 47,
     "metadata": {},
     "output_type": "execute_result"
    }
   ],
   "source": [
    "#sets it remove duplicates\n",
    "s1={1,2,3,4,6,7,8,1,2}\n",
    "s1"
   ]
  },
  {
   "cell_type": "code",
   "execution_count": 48,
   "id": "c6a09341-41a6-4028-bf13-ae84ae67a2e1",
   "metadata": {},
   "outputs": [
    {
     "data": {
      "text/plain": [
       "{'name': 'nitish', 'age': 23, 'gender': 'male'}"
      ]
     },
     "execution_count": 48,
     "metadata": {},
     "output_type": "execute_result"
    }
   ],
   "source": [
    "#dictionary - very useful/searhing is very fast /key-value pair\n",
    "dict1={'name':\"nitish\",'age':23,'gender':'male'}\n",
    "dict1"
   ]
  },
  {
   "cell_type": "code",
   "execution_count": 50,
   "id": "64a7635e-77ae-4658-8292-74e9e5420cc3",
   "metadata": {},
   "outputs": [
    {
     "data": {
      "text/plain": [
       "'nitish'"
      ]
     },
     "execution_count": 50,
     "metadata": {},
     "output_type": "execute_result"
    }
   ],
   "source": [
    "dict1['name']"
   ]
  },
  {
   "cell_type": "markdown",
   "id": "4cdabd2f-521d-410e-90a7-449c896185ba",
   "metadata": {},
   "source": [
    "KEYWORD(predefine)/VARIABLE(user define)\n",
    "variable name should not be same as keyword name\n",
    "Keywords are special words that are reserved by Python because they have predefined meanings and uses. You cannot use them as variable names, function names, or identifiers. Examples include if, else, while, for, def, class,\n"
   ]
  },
  {
   "cell_type": "code",
   "execution_count": 54,
   "id": "80162a5f-9459-4817-8926-7d2186a7ac3a",
   "metadata": {},
   "outputs": [],
   "source": [
    "import keyword"
   ]
  },
  {
   "cell_type": "raw",
   "id": "d8ab35a6-27e5-4754-aaf6-1a44770ee1ae",
   "metadata": {},
   "source": [
    "print(keyword.kwlist) #- Returns a list of strings, where each string is a Python keyword.\n"
   ]
  },
  {
   "cell_type": "code",
   "execution_count": null,
   "id": "2de5b44d-910f-4a26-a4a5-e994778c8a71",
   "metadata": {},
   "outputs": [],
   "source": [
    "['False', 'None', 'True', 'and', 'as', 'assert', 'async', 'await', 'break', \n",
    " 'class', 'continue', 'def', 'del', 'elif', 'else', 'except', 'finally', 'for', 'from', 'global', 'if', \n",
    " 'import', 'in', 'is', 'lambda', 'nonlocal', 'not', 'or', 'pass', 'raise', 'return', 'try', 'while', 'with', 'yield"
   ]
  },
  {
   "cell_type": "markdown",
   "id": "20d826be-249e-4d03-b669-da3a68581f6c",
   "metadata": {},
   "source": [
    "IDENTIFIER\n",
    "An identifier is the name used to identify a variable, function, class, module, or object. \n",
    "It’s basically any name you define in your code\n",
    "\n",
    "Rules for Identifiers:\n",
    "- Must begin with a letter (A–Z or a–z) or an underscore _\n",
    "- Can contain letters, digits (0–9), and underscores\n",
    "- Python keyword (like if, for, class, etc.) CAN NOT BE USED AS IDENTIFIER\n",
    "- Are case-sensitive (Name and name are different)\n",
    "\n",
    "\n",
    "\n",
    "\n",
    "\n"
   ]
  },
  {
   "cell_type": "code",
   "execution_count": null,
   "id": "6d816c5c-b051-4a7d-9332-66c1de54f000",
   "metadata": {},
   "outputs": [],
   "source": [
    "\n",
    "myVar = 10       # 'myVar' is an identifier\n",
    "def greet():     # 'greet' is an identifier\n",
    "class Person:    # 'Person' is an identifier"
   ]
  },
  {
   "cell_type": "code",
   "execution_count": null,
   "id": "1abd2d21-6e51-4e79-a1a5-8f5a56ea0e6f",
   "metadata": {},
   "outputs": [],
   "source": [
    "name='nitish'\n",
    "name1='nitish'\n",
    "1name='nitish'# wrong\n",
    "_name='nitish'\n",
    "#name='nitish'\n",
    "first_name='nitish'\n",
    "first-name='nitish'\n"
   ]
  },
  {
   "cell_type": "code",
   "execution_count": 55,
   "id": "b56e2798-f138-4ca8-8234-bc3460b9a4af",
   "metadata": {},
   "outputs": [
    {
     "ename": "SyntaxError",
     "evalue": "cannot assign to expression here. Maybe you meant '==' instead of '='? (3656193502.py, line 1)",
     "output_type": "error",
     "traceback": [
      "\u001b[1;36m  Cell \u001b[1;32mIn[55], line 1\u001b[1;36m\u001b[0m\n\u001b[1;33m    first-name='nitish'\u001b[0m\n\u001b[1;37m    ^\u001b[0m\n\u001b[1;31mSyntaxError\u001b[0m\u001b[1;31m:\u001b[0m cannot assign to expression here. Maybe you meant '==' instead of '='?\n"
     ]
    }
   ],
   "source": [
    "first-name='nitish'\n"
   ]
  },
  {
   "cell_type": "code",
   "execution_count": 56,
   "id": "76a2d4c8-1596-4b22-a1ac-df42007f1fd8",
   "metadata": {},
   "outputs": [],
   "source": [
    "name='nitish'"
   ]
  },
  {
   "cell_type": "code",
   "execution_count": 57,
   "id": "82bb40a7-486d-4363-9d79-0dc87eaf278d",
   "metadata": {},
   "outputs": [
    {
     "data": {
      "text/plain": [
       "'nitish'"
      ]
     },
     "execution_count": 57,
     "metadata": {},
     "output_type": "execute_result"
    }
   ],
   "source": [
    "name"
   ]
  },
  {
   "cell_type": "code",
   "execution_count": null,
   "id": "1c6c2ca3-21b4-4962-845a-34b9385c4933",
   "metadata": {},
   "outputs": [],
   "source": []
  },
  {
   "cell_type": "code",
   "execution_count": null,
   "id": "fa9a12ab-002a-4220-86e4-b14b157c39be",
   "metadata": {},
   "outputs": [],
   "source": []
  },
  {
   "cell_type": "code",
   "execution_count": null,
   "id": "64a5f38a-5b4a-416b-bd21-4723da9cd7c6",
   "metadata": {},
   "outputs": [],
   "source": []
  },
  {
   "cell_type": "code",
   "execution_count": null,
   "id": "61c256db-033e-4fb3-b312-9c79fe3d9c1b",
   "metadata": {},
   "outputs": [],
   "source": []
  },
  {
   "cell_type": "code",
   "execution_count": null,
   "id": "3c708eb9-6e23-43da-b0bf-b47de89753c0",
   "metadata": {},
   "outputs": [],
   "source": []
  }
 ],
 "metadata": {
  "kernelspec": {
   "display_name": "Python [conda env:base] *",
   "language": "python",
   "name": "conda-base-py"
  },
  "language_info": {
   "codemirror_mode": {
    "name": "ipython",
    "version": 3
   },
   "file_extension": ".py",
   "mimetype": "text/x-python",
   "name": "python",
   "nbconvert_exporter": "python",
   "pygments_lexer": "ipython3",
   "version": "3.13.5"
  }
 },
 "nbformat": 4,
 "nbformat_minor": 5
}
